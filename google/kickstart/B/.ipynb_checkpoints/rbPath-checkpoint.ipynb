{
 "cells": [
  {
   "cell_type": "code",
   "execution_count": null,
   "metadata": {},
   "outputs": [
    {
     "name": "stdout",
     "output_type": "stream",
     "text": [
      "1\n",
      "Case #1: "
     ]
    }
   ],
   "source": [
    "def solve():\n",
    "    s = input()\n",
    "    N=0\n",
    "    W=0\n",
    "    S=0\n",
    "    E=0\n",
    "    x=0\n",
    "    y=0\n",
    "    mod = 1000000000\n",
    "    s = \"1(\"+s+\")\"\n",
    "    cur = 1\n",
    "    prev = 1\n",
    "    for i in range(0,len(s)):\n",
    "        if s[i] == '(':\n",
    "            cur = cur * int(s[i-1]);\n",
    "            prev = int(s[i-1])\n",
    "        if s[i] == ')':\n",
    "            cur = cur//prev;\n",
    "            prev = cur\n",
    "        else:\n",
    "            if s[i] == 'N':\n",
    "                y-=cur\n",
    "            elif s[i] == 'S':\n",
    "                y+=cur;\n",
    "            elif s[i] == 'E':\n",
    "                x+=cur;\n",
    "            elif s[i] == 'W':\n",
    "                x-=cur;\n",
    "    x%=mod\n",
    "    y%=mod\n",
    "    \n",
    "    \n",
    "    \n",
    "#     print(str(i+1)+\" \"+str(j+1))\n",
    "    print(x+1,y+1)\n",
    "#     print(N,S,E,W)\n",
    "    \n",
    "t = int(input())\n",
    "for i in range(1,t+1):\n",
    "    print(\"Case #\"+str(i)+\": \",end=\"\")\n",
    "    solve()\n",
    "#4\n",
    "# SSSEEE\n",
    "# N\n",
    "# N3(S)N2(E)N\n",
    "# 2(3(NW)2(W2(EE)W))\n",
    "\n",
    "# 5\n",
    "# 2(4(NN)5(W))\n",
    "# 3(NS)WE3(NS)2(4(NN)5(WE))8(SS)E\n",
    "# 3(NS)WE3(NS)\n",
    "# 8(SS)E\n",
    "# 2(4(NN)5(W))8(SS)E"
   ]
  },
  {
   "cell_type": "code",
   "execution_count": null,
   "metadata": {},
   "outputs": [],
   "source": []
  },
  {
   "cell_type": "code",
   "execution_count": null,
   "metadata": {},
   "outputs": [],
   "source": []
  },
  {
   "cell_type": "code",
   "execution_count": null,
   "metadata": {},
   "outputs": [],
   "source": [
    "for _ in range(int(input())):\n",
    "    s = input()\n",
    "    print(\"Case #\"+str(_+1)+ \": \",end= \"\")\n",
    "    x, y = 0, 0\n",
    "    mod = 10**9\n",
    "    stack = []\n",
    "    moves = [\"N\", \"E\",\"W\",\"S\"]\n",
    "    multiplier = 1\n",
    "    for c in s:\n",
    "        if c not in moves:\n",
    "            if c == \")\":\n",
    "                multiplier //= stack.pop()\n",
    "            if ord(c) >= ord(\"2\") and ord(c) <= ord(\"9\"):\n",
    "                multiplier *= int(c)\n",
    "                stack.append(int(c))\n",
    "        else:\n",
    "            if c == \"N\":\n",
    "                y -= multiplier\n",
    "            if c == \"S\":\n",
    "                y += multiplier\n",
    "            if c == \"E\":\n",
    "                x += multiplier\n",
    "            if c == \"W\":\n",
    "                x -= multiplier\n",
    "            x %= mod\n",
    "            y %= mod\n",
    "    print(x+1, y+1)"
   ]
  }
 ],
 "metadata": {
  "kernelspec": {
   "display_name": "Python 3",
   "language": "python",
   "name": "python3"
  },
  "language_info": {
   "codemirror_mode": {
    "name": "ipython",
    "version": 3
   },
   "file_extension": ".py",
   "mimetype": "text/x-python",
   "name": "python",
   "nbconvert_exporter": "python",
   "pygments_lexer": "ipython3",
   "version": "3.7.4"
  }
 },
 "nbformat": 4,
 "nbformat_minor": 2
}
